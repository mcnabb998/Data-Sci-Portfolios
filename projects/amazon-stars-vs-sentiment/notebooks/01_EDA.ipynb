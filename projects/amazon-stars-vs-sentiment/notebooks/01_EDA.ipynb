{
 "cells": [
  {
   "cell_type": "markdown",
   "id": "9dc9a116",
   "metadata": {},
   "source": [
    "# EDA for Amazon Stars vs Sentiment\n",
    "\n",
    "---\n",
    "\n",
    "This notebook explores the relationship between Amazon review star ratings and sentiment analysis scores. It loads a large sample of reviews, computes sentiment using DistilBERT, and visualizes the alignment (or divergence) between written sentiment and star ratings."
   ]
  },
  {
   "cell_type": "code",
   "execution_count": 2,
   "id": "424c997d",
   "metadata": {},
   "outputs": [
    {
     "name": "stdout",
     "output_type": "stream",
     "text": [
      "✅ Loading c:\\Users\\mcnab\\OneDrive\\Documents\\GitHub\\Data-Sci-Portfolios\\projects\\amazon-stars-vs-sentiment\\data\\raw_review_Clothing_Shoes_and_Jewelry_1000000.parquet\n"
     ]
    }
   ],
   "source": [
    "# ------------------------------------------------------------\n",
    "# 0. Ensure the review slice exists, then load it\n",
    "# ------------------------------------------------------------\n",
    "import subprocess, pathlib, pandas as pd, sys, textwrap, os\n",
    "\n",
    "CATEGORY = \"raw_review_Clothing_Shoes_and_Jewelry\"\n",
    "N_ROWS   = 1_000_000\n",
    "\n",
    "# Find the project root (the folder containing 'data' and 'notebooks')\n",
    "if '__file__' in globals():\n",
    "    PROJECT_ROOT = pathlib.Path(__file__).resolve().parent.parent\n",
    "else:\n",
    "    PROJECT_ROOT = pathlib.Path(os.getcwd()).parent\n",
    "PARQUET = PROJECT_ROOT / \"data\" / f\"{CATEGORY}_{N_ROWS}.parquet\"\n",
    "SCRIPT_PATH = PROJECT_ROOT / \"data\" / \"get_data.py\"\n",
    "\n",
    "if not PARQUET.exists():\n",
    "    print(\"🔄 Parquet not found – running data/get_data.py …\")\n",
    "    try:\n",
    "        subprocess.run(\n",
    "            [\n",
    "                sys.executable,\n",
    "                str(SCRIPT_PATH),\n",
    "                \"--category\", CATEGORY,\n",
    "                \"--rows\", str(N_ROWS)\n",
    "            ],\n",
    "            check=True,\n",
    "            capture_output=True,\n",
    "            text=True\n",
    "        )\n",
    "    except subprocess.CalledProcessError as e:\n",
    "        print(\"❌ get_data.py failed\")\n",
    "        if e.stdout:\n",
    "            print(\"--- get_data.py stdout ---\\n\" + e.stdout)\n",
    "        if e.stderr:\n",
    "            print(\"--- get_data.py stderr ---\\n\" + e.stderr)\n",
    "        raise\n",
    "\n",
    "    if not PARQUET.exists():\n",
    "        raise FileNotFoundError(\"Download script finished, but Parquet still missing.\")\n",
    "\n",
    "print(f\"✅ Loading {PARQUET}\")\n",
    "df = pd.read_parquet(PARQUET)\n",
    "df.head()\n",
    "\n",
    "rename_map = {'text': 'review_body', 'rating': 'star_rating'}\n",
    "df = df.rename(columns={k: v for k, v in rename_map.items() if k in df.columns})"
   ]
  },
  {
   "cell_type": "markdown",
   "id": "9f928861",
   "metadata": {},
   "source": [
    "## B. Plot star distribution → results/star_counts.png"
   ]
  },
  {
   "cell_type": "code",
   "execution_count": null,
   "id": "405f2797",
   "metadata": {},
   "outputs": [
    {
     "data": {
      "image/png": "[encoded data removed]",
      "text/plain": [
       "<Figure size 640x480 with 1 Axes>"
      ]
     },
     "metadata": {},
     "output_type": "display_data"
    }
   ],
   "source": [
    "import os\n",
    "os.makedirs('results', exist_ok=True)\n",
    "import matplotlib.pyplot as plt\n",
    "import seaborn as sns\n",
    "\n",
    "sns.countplot(x='star_rating', data=df)\n",
    "plt.title('Star Rating Distribution')\n",
    "plt.savefig('results/star_counts.png')\n",
    "plt.show()"
   ]
  },
  {
   "cell_type": "markdown",
   "id": "66d47d77",
   "metadata": {},
   "source": [
    "\n",
    "## Sentiment Analysis, Divergence Metrics, and Visualizations\n",
    "\n",
    "This block performs the main analysis and visualization steps for the Amazon Stars vs Sentiment project:\n",
    "- Computes sentiment scores for each review using DistilBERT (SST-2).\n",
    "- Calculates a divergence metric between the sentiment score and the normalized star rating.\n",
    "- Generates and saves key figures:\n",
    "  - Histogram of sentiment–star divergence.\n",
    "  - Boxplot of sentiment polarity by star rating.\n",
    "  - Scatterplot of helpful votes vs divergence (optional).\n",
    "- Computes the Spearman correlation between helpful votes and divergence.\n",
    "- Saves a cleaned subset of the data for downstream modeling.\n",
    "\n",
    "These steps provide insight into the relationship between written sentiment and star ratings, and prepare the data for further analysis.\n"
   ]
  },
  {
   "cell_type": "code",
   "execution_count": null,
   "id": "a499ef74",
   "metadata": {},
   "outputs": [
    {
     "name": "stderr",
     "output_type": "stream",
     "text": [
      "Device set to use cpu\n"
     ]
    },
    {
     "data": {
      "application/vnd.jupyter.widget-view+json": {
       "model_id": "898dfc2e11ee428d8002fc7cf272203b",
       "version_major": 2,
       "version_minor": 0
      },
      "text/plain": [
       "Scoring:   0%|          | 0/1000000 [00:00<?, ?it/s]"
      ]
     },
     "metadata": {},
     "output_type": "display_data"
    }
   ],
   "source": [
    "# --------------------------------------------------\n",
    "# 1⃣  Sentiment score for each review (DistilBERT)\n",
    "#     – takes 2-4 min on CPU for 100k rows,\n",
    "#       ~15 min for 1 M.  Adjust batch_size if RAM tight.\n",
    "# --------------------------------------------------\n",
    "from transformers import pipeline\n",
    "import numpy as np\n",
    "from tqdm.notebook import tqdm  # Use notebook version for Jupyter\n",
    "\n",
    "sent_pipe = pipeline(\n",
    "    \"sentiment-analysis\",\n",
    "    model=\"distilbert-base-uncased-finetuned-sst-2-english\",\n",
    "    truncation=True,\n",
    "    batch_size=64,\n",
    "    device=-1               # set to 0 if you have a GPU\n",
    ")\n",
    "\n",
    "def score_batch(texts):\n",
    "    res = sent_pipe(texts)\n",
    "    return [1 if r[\"label\"] == \"POSITIVE\" else -1 for r in res]\n",
    "\n",
    "CHUNK_SIZE = 10_000                  # 100 batches of 10 k = 1 M rows\n",
    "chunks = np.array_split(df[\"review_body\"].values, len(df)//CHUNK_SIZE)\n",
    "\n",
    "sent_scores = []\n",
    "for chunk in tqdm(chunks, desc=\"Scoring\", unit_scale=CHUNK_SIZE):\n",
    "    sent_scores.extend(score_batch(chunk.tolist()))\n",
    "\n",
    "df[\"sent_score\"] = np.array(sent_scores)\n",
    "\n",
    "# --------------------------------------------------\n",
    "# 2⃣  Divergence metric & histogram (Figure 2)\n",
    "# --------------------------------------------------\n",
    "df[\"norm_star\"] = (df[\"star_rating\"] - 3) / 2        # maps 1-5 → -1…+1\n",
    "df[\"divergence\"] = df[\"sent_score\"] - df[\"norm_star\"]\n",
    "\n",
    "plt.figure(figsize=(6,4))\n",
    "sns.histplot(df[\"divergence\"], bins=41, color=\"slateblue\")\n",
    "plt.axvline(0, ls=\"--\", c=\"red\")\n",
    "plt.title(\"Sentiment–Star Divergence (n = 1 M)\")\n",
    "plt.xlabel(\"Divergence\"); plt.ylabel(\"Frequency\")\n",
    "plt.tight_layout()\n",
    "plt.savefig(\"results/divergence_hist.png\")\n",
    "plt.show()\n",
    "\n",
    "# --------------------------------------------------\n",
    "# 3⃣  Polarity vs star rating box-plot (Figure 3)\n",
    "# --------------------------------------------------\n",
    "plt.figure(figsize=(6,4))\n",
    "sns.boxplot(x=\"star_rating\", y=\"sent_score\", data=df,\n",
    "            palette=\"Greens\", showfliers=False)\n",
    "plt.title(\"Sentiment Polarity by Star Rating\")\n",
    "plt.xlabel(\"Star Rating\"); plt.ylabel(\"Sentiment Score\")\n",
    "plt.tight_layout()\n",
    "plt.savefig(\"results/polarity_vs_rating.png\")\n",
    "plt.show()\n",
    "\n",
    "# --------------------------------------------------\n",
    "# 4⃣  Helpful-votes sanity check (optional Figure 4)\n",
    "# --------------------------------------------------\n",
    "plt.figure(figsize=(6,4))\n",
    "sns.scatterplot(x=df[\"helpful_votes\"].clip(upper=50),   # cap outliers for clarity\n",
    "                y=df[\"divergence\"], alpha=0.2)\n",
    "plt.title(\"Helpful Votes vs Divergence (clipped to 50 votes)\")\n",
    "plt.xlabel(\"Helpful Votes\"); plt.ylabel(\"Divergence\")\n",
    "plt.tight_layout()\n",
    "plt.savefig(\"results/helpful_vs_divergence.png\")\n",
    "plt.show()\n",
    "\n",
    "# Spearman correlation for the white-paper bullet list\n",
    "from scipy.stats import spearmanr\n",
    "rho, _ = spearmanr(df[\"helpful_votes\"].fillna(0), df[\"divergence\"])\n",
    "print(f\"Spearman ρ(helpful_votes, divergence) = {rho:.2f}\")\n",
    "\n",
    "# --------------------------------------------------\n",
    "# 5⃣  Save cleaned subset for modelling\n",
    "# --------------------------------------------------\n",
    "df.to_parquet(\"data/clean_1M.parquet\", index=False)\n",
    "print(\"✅ Clean Parquet ready → data/clean_1M.parquet\")\n"
   ]
  },
  {
   "cell_type": "markdown",
   "id": "eee6f3c7",
   "metadata": {},
   "source": [
    "## C. DistilBERT SST-2 sentiment → sent_score column"
   ]
  },
  {
   "cell_type": "code",
   "execution_count": 15,
   "id": "6008bf0e",
   "metadata": {},
   "outputs": [
    {
     "ename": "ModuleNotFoundError",
     "evalue": "No module named 'transformers'",
     "output_type": "error",
     "traceback": [
      "\u001b[1;31m---------------------------------------------------------------------------\u001b[0m",
      "\u001b[1;31mModuleNotFoundError\u001b[0m                       Traceback (most recent call last)",
      "Cell \u001b[1;32mIn[15], line 1\u001b[0m\n\u001b[1;32m----> 1\u001b[0m \u001b[38;5;28;01mfrom\u001b[39;00m \u001b[38;5;21;01mtransformers\u001b[39;00m \u001b[38;5;28;01mimport\u001b[39;00m pipeline\n\u001b[0;32m      2\u001b[0m sent_clf \u001b[38;5;241m=\u001b[39m pipeline(\u001b[38;5;124m'\u001b[39m\u001b[38;5;124msentiment-analysis\u001b[39m\u001b[38;5;124m'\u001b[39m)\n\u001b[0;32m      3\u001b[0m df[\u001b[38;5;124m'\u001b[39m\u001b[38;5;124msent_score\u001b[39m\u001b[38;5;124m'\u001b[39m] \u001b[38;5;241m=\u001b[39m df[\u001b[38;5;124m'\u001b[39m\u001b[38;5;124mreview_body\u001b[39m\u001b[38;5;124m'\u001b[39m]\u001b[38;5;241m.\u001b[39mapply(\u001b[38;5;28;01mlambda\u001b[39;00m x: sent_clf(x)[\u001b[38;5;241m0\u001b[39m][\u001b[38;5;124m'\u001b[39m\u001b[38;5;124mscore\u001b[39m\u001b[38;5;124m'\u001b[39m])\n",
      "\u001b[1;31mModuleNotFoundError\u001b[0m: No module named 'transformers'"
     ]
    }
   ],
   "source": [
    "from transformers import pipeline\n",
    "sent_clf = pipeline('sentiment-analysis')\n",
    "df['sent_score'] = df['review_body'].apply(lambda x: sent_clf(x)[0]['score'])  # This may take a while!"
   ]
  },
  {
   "cell_type": "markdown",
   "id": "07fd6ded",
   "metadata": {},
   "source": [
    "## D. Compute divergence metric; histogram → results/divergence_hist.png"
   ]
  },
  {
   "cell_type": "code",
   "execution_count": 17,
   "id": "7fde7b60",
   "metadata": {},
   "outputs": [
    {
     "ename": "KeyError",
     "evalue": "'sent_score'",
     "output_type": "error",
     "traceback": [
      "\u001b[1;31m---------------------------------------------------------------------------\u001b[0m",
      "\u001b[1;31mKeyError\u001b[0m                                  Traceback (most recent call last)",
      "File \u001b[1;32mc:\\Users\\mcnab\\anaconda3\\lib\\site-packages\\pandas\\core\\indexes\\base.py:3805\u001b[0m, in \u001b[0;36mIndex.get_loc\u001b[1;34m(self, key)\u001b[0m\n\u001b[0;32m   3804\u001b[0m \u001b[38;5;28;01mtry\u001b[39;00m:\n\u001b[1;32m-> 3805\u001b[0m     \u001b[38;5;28;01mreturn\u001b[39;00m \u001b[38;5;28;43mself\u001b[39;49m\u001b[38;5;241;43m.\u001b[39;49m\u001b[43m_engine\u001b[49m\u001b[38;5;241;43m.\u001b[39;49m\u001b[43mget_loc\u001b[49m\u001b[43m(\u001b[49m\u001b[43mcasted_key\u001b[49m\u001b[43m)\u001b[49m\n\u001b[0;32m   3806\u001b[0m \u001b[38;5;28;01mexcept\u001b[39;00m \u001b[38;5;167;01mKeyError\u001b[39;00m \u001b[38;5;28;01mas\u001b[39;00m err:\n",
      "File \u001b[1;32mindex.pyx:167\u001b[0m, in \u001b[0;36mpandas._libs.index.IndexEngine.get_loc\u001b[1;34m()\u001b[0m\n",
      "File \u001b[1;32mindex.pyx:196\u001b[0m, in \u001b[0;36mpandas._libs.index.IndexEngine.get_loc\u001b[1;34m()\u001b[0m\n",
      "File \u001b[1;32mpandas\\\\_libs\\\\hashtable_class_helper.pxi:7081\u001b[0m, in \u001b[0;36mpandas._libs.hashtable.PyObjectHashTable.get_item\u001b[1;34m()\u001b[0m\n",
      "File \u001b[1;32mpandas\\\\_libs\\\\hashtable_class_helper.pxi:7089\u001b[0m, in \u001b[0;36mpandas._libs.hashtable.PyObjectHashTable.get_item\u001b[1;34m()\u001b[0m\n",
      "\u001b[1;31mKeyError\u001b[0m: 'sent_score'",
      "\nThe above exception was the direct cause of the following exception:\n",
      "\u001b[1;31mKeyError\u001b[0m                                  Traceback (most recent call last)",
      "Cell \u001b[1;32mIn[17], line 1\u001b[0m\n\u001b[1;32m----> 1\u001b[0m df[\u001b[38;5;124m'\u001b[39m\u001b[38;5;124mdivergence\u001b[39m\u001b[38;5;124m'\u001b[39m] \u001b[38;5;241m=\u001b[39m \u001b[43mdf\u001b[49m\u001b[43m[\u001b[49m\u001b[38;5;124;43m'\u001b[39;49m\u001b[38;5;124;43msent_score\u001b[39;49m\u001b[38;5;124;43m'\u001b[39;49m\u001b[43m]\u001b[49m \u001b[38;5;241m-\u001b[39m (df[\u001b[38;5;124m'\u001b[39m\u001b[38;5;124mstar_rating\u001b[39m\u001b[38;5;124m'\u001b[39m]\u001b[38;5;241m-\u001b[39m\u001b[38;5;241m3\u001b[39m)\u001b[38;5;241m/\u001b[39m\u001b[38;5;241m2\u001b[39m\n\u001b[0;32m      2\u001b[0m ax \u001b[38;5;241m=\u001b[39m df[\u001b[38;5;124m'\u001b[39m\u001b[38;5;124mdivergence\u001b[39m\u001b[38;5;124m'\u001b[39m]\u001b[38;5;241m.\u001b[39mhist()\n\u001b[0;32m      3\u001b[0m plt\u001b[38;5;241m.\u001b[39mtitle(\u001b[38;5;124m'\u001b[39m\u001b[38;5;124mDivergence Histogram\u001b[39m\u001b[38;5;124m'\u001b[39m)\n",
      "File \u001b[1;32mc:\\Users\\mcnab\\anaconda3\\lib\\site-packages\\pandas\\core\\frame.py:4102\u001b[0m, in \u001b[0;36mDataFrame.__getitem__\u001b[1;34m(self, key)\u001b[0m\n\u001b[0;32m   4100\u001b[0m \u001b[38;5;28;01mif\u001b[39;00m \u001b[38;5;28mself\u001b[39m\u001b[38;5;241m.\u001b[39mcolumns\u001b[38;5;241m.\u001b[39mnlevels \u001b[38;5;241m>\u001b[39m \u001b[38;5;241m1\u001b[39m:\n\u001b[0;32m   4101\u001b[0m     \u001b[38;5;28;01mreturn\u001b[39;00m \u001b[38;5;28mself\u001b[39m\u001b[38;5;241m.\u001b[39m_getitem_multilevel(key)\n\u001b[1;32m-> 4102\u001b[0m indexer \u001b[38;5;241m=\u001b[39m \u001b[38;5;28;43mself\u001b[39;49m\u001b[38;5;241;43m.\u001b[39;49m\u001b[43mcolumns\u001b[49m\u001b[38;5;241;43m.\u001b[39;49m\u001b[43mget_loc\u001b[49m\u001b[43m(\u001b[49m\u001b[43mkey\u001b[49m\u001b[43m)\u001b[49m\n\u001b[0;32m   4103\u001b[0m \u001b[38;5;28;01mif\u001b[39;00m is_integer(indexer):\n\u001b[0;32m   4104\u001b[0m     indexer \u001b[38;5;241m=\u001b[39m [indexer]\n",
      "File \u001b[1;32mc:\\Users\\mcnab\\anaconda3\\lib\\site-packages\\pandas\\core\\indexes\\base.py:3812\u001b[0m, in \u001b[0;36mIndex.get_loc\u001b[1;34m(self, key)\u001b[0m\n\u001b[0;32m   3807\u001b[0m     \u001b[38;5;28;01mif\u001b[39;00m \u001b[38;5;28misinstance\u001b[39m(casted_key, \u001b[38;5;28mslice\u001b[39m) \u001b[38;5;129;01mor\u001b[39;00m (\n\u001b[0;32m   3808\u001b[0m         \u001b[38;5;28misinstance\u001b[39m(casted_key, abc\u001b[38;5;241m.\u001b[39mIterable)\n\u001b[0;32m   3809\u001b[0m         \u001b[38;5;129;01mand\u001b[39;00m \u001b[38;5;28many\u001b[39m(\u001b[38;5;28misinstance\u001b[39m(x, \u001b[38;5;28mslice\u001b[39m) \u001b[38;5;28;01mfor\u001b[39;00m x \u001b[38;5;129;01min\u001b[39;00m casted_key)\n\u001b[0;32m   3810\u001b[0m     ):\n\u001b[0;32m   3811\u001b[0m         \u001b[38;5;28;01mraise\u001b[39;00m InvalidIndexError(key)\n\u001b[1;32m-> 3812\u001b[0m     \u001b[38;5;28;01mraise\u001b[39;00m \u001b[38;5;167;01mKeyError\u001b[39;00m(key) \u001b[38;5;28;01mfrom\u001b[39;00m \u001b[38;5;21;01merr\u001b[39;00m\n\u001b[0;32m   3813\u001b[0m \u001b[38;5;28;01mexcept\u001b[39;00m \u001b[38;5;167;01mTypeError\u001b[39;00m:\n\u001b[0;32m   3814\u001b[0m     \u001b[38;5;66;03m# If we have a listlike key, _check_indexing_error will raise\u001b[39;00m\n\u001b[0;32m   3815\u001b[0m     \u001b[38;5;66;03m#  InvalidIndexError. Otherwise we fall through and re-raise\u001b[39;00m\n\u001b[0;32m   3816\u001b[0m     \u001b[38;5;66;03m#  the TypeError.\u001b[39;00m\n\u001b[0;32m   3817\u001b[0m     \u001b[38;5;28mself\u001b[39m\u001b[38;5;241m.\u001b[39m_check_indexing_error(key)\n",
      "\u001b[1;31mKeyError\u001b[0m: 'sent_score'"
     ]
    }
   ],
   "source": [
    "df['divergence'] = df['sent_score'] - (df['star_rating']-3)/2\n",
    "ax = df['divergence'].hist()\n",
    "plt.title('Divergence Histogram')\n",
    "plt.savefig('results/divergence_hist.png')\n",
    "plt.show()"
   ]
  },
  {
   "cell_type": "markdown",
   "id": "e636e855",
   "metadata": {},
   "source": [
    "## E. Boxplot polarity vs star rating → results/polarity_vs_rating.png"
   ]
  },
  {
   "cell_type": "code",
   "execution_count": null,
   "id": "e5f66f22",
   "metadata": {},
   "outputs": [],
   "source": [
    "sns.boxplot(x='star_rating', y='sent_score', data=df)\n",
    "plt.title('Polarity vs Star Rating')\n",
    "plt.savefig('results/polarity_vs_rating.png')\n",
    "plt.show()"
   ]
  },
  {
   "cell_type": "markdown",
   "id": "b9fb9a17",
   "metadata": {},
   "source": [
    "## (Optional) Helpful votes vs Divergence"
   ]
  },
  {
   "cell_type": "code",
   "execution_count": null,
   "id": "bd0caa0a",
   "metadata": {},
   "outputs": [],
   "source": [
    "# sns.scatterplot(x='helpful_votes', y='divergence', data=df)\n",
    "# plt.savefig('results/helpful_vs_div.png')"
   ]
  },
  {
   "cell_type": "markdown",
   "id": "f772a2c9",
   "metadata": {},
   "source": [
    "## F. Save cleaned subset → data/clean_1M.parquet"
   ]
  },
  {
   "cell_type": "code",
   "execution_count": null,
   "id": "d10681e9",
   "metadata": {},
   "outputs": [],
   "source": [
    "df.to_parquet('data/clean_1M.parquet')\n",
    "print('✅ Saved cleaned subset to data/clean_1M.parquet')"
   ]
  }
 ],
 "metadata": {
  "kernelspec": {
   "display_name": "base",
   "language": "python",
   "name": "python3"
  },
  "language_info": {
   "codemirror_mode": {
    "name": "ipython",
    "version": 3
   },
   "file_extension": ".py",
   "mimetype": "text/x-python",
   "name": "python",
   "nbconvert_exporter": "python",
   "pygments_lexer": "ipython3",
   "version": "3.9.21"
  }
 },
 "nbformat": 4,
 "nbformat_minor": 5
}
