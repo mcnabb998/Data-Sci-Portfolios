{
 "cells": [
  {
   "cell_type": "markdown",
   "id": "9dc9a116",
   "metadata": {},
   "source": [
    "# EDA for Amazon Stars vs Sentiment\n",
    "\n",
    "---\n",
    "\n",
    "This notebook explores the relationship between Amazon review star ratings and sentiment analysis scores. It loads a large sample of reviews, computes sentiment using DistilBERT, and visualizes the alignment (or divergence) between written sentiment and star ratings."
   ]
  },
  {
   "cell_type": "code",
   "execution_count": null,
   "id": "424c997d",
   "metadata": {},
   "outputs": [
    {
     "name": "stdout",
     "output_type": "stream",
     "text": [
      "🔄 Parquet not found – running data/get_data.py …\n"
     ]
    }
   ],
   "source": [
    "# ------------------------------------------------------------\n",
    "# 0. Ensure the review slice exists, then load it\n",
    "# ------------------------------------------------------------\n",
    "import subprocess, pathlib, pandas as pd, sys, textwrap\n",
    "\n",
    "CATEGORY = \"raw_review_Clothing_Shoes_and_Jewelry\"   # ← keep the raw_review_ prefix\n",
    "N_ROWS   = 1_000_000\n",
    "PARQUET  = pathlib.Path(f\"data/{CATEGORY}_{N_ROWS}.parquet\")\n",
    "\n",
    "# If the file is missing, run data/get_data.py to create it\n",
    "if not PARQUET.exists():\n",
    "    print(\"🔄 Parquet not found – running data/get_data.py …\")\n",
    "    try:\n",
    "        import os\n",
    "        script_path = os.path.abspath(os.path.join(os.path.dirname(__file__) if \"__file__\" in globals() else os.getcwd(), \"..\", \"data\", \"get_data.py\"))\n",
    "        subprocess.run(\n",
    "            [\n",
    "                sys.executable,\n",
    "                script_path,\n",
    "                \"--category\", CATEGORY,\n",
    "                \"--rows\", str(N_ROWS)\n",
    "            ],\n",
    "            check=True,\n",
    "            capture_output=True,\n",
    "            text=True\n",
    "        )\n",
    "    except subprocess.CalledProcessError as e:\n",
    "        print(\"❌ get_data.py failed\")\n",
    "        print(textwrap.indent(e.stderr or \"\", \"    \"))\n",
    "        raise\n",
    "\n",
    "    if not PARQUET.exists():\n",
    "        raise FileNotFoundError(\"Download script finished, but Parquet still missing.\")\n",
    "\n",
    "# Load the dataset\n",
    "print(f\"✅ Loading {PARQUET}\")\n",
    "df = pd.read_parquet(PARQUET)\n",
    "df.head()\n"
   ]
  },
  {
   "cell_type": "markdown",
   "id": "07c4d6e9",
   "metadata": {},
   "source": [
    "## A. Load Parquet"
   ]
  },
  {
   "cell_type": "code",
   "execution_count": null,
   "id": "951c8748",
   "metadata": {},
   "outputs": [],
   "source": [
    "# Already loaded above. DataFrame: df"
   ]
  },
  {
   "cell_type": "markdown",
   "id": "9f928861",
   "metadata": {},
   "source": [
    "## B. Plot star distribution → results/star_counts.png"
   ]
  },
  {
   "cell_type": "code",
   "execution_count": null,
   "id": "405f2797",
   "metadata": {},
   "outputs": [],
   "source": [
    "import matplotlib.pyplot as plt\n",
    "import seaborn as sns\n",
    "\n",
    "sns.countplot(x='star_rating', data=df)\n",
    "plt.title('Star Rating Distribution')\n",
    "plt.savefig('results/star_counts.png')\n",
    "plt.show()"
   ]
  },
  {
   "cell_type": "markdown",
   "id": "eee6f3c7",
   "metadata": {},
   "source": [
    "## C. DistilBERT SST-2 sentiment → sent_score column"
   ]
  },
  {
   "cell_type": "code",
   "execution_count": null,
   "id": "6008bf0e",
   "metadata": {},
   "outputs": [],
   "source": [
    "from transformers import pipeline\n",
    "sent_clf = pipeline('sentiment-analysis')\n",
    "df['sent_score'] = df['review_body'].apply(lambda x: sent_clf(x)[0]['score'])  # This may take a while!"
   ]
  },
  {
   "cell_type": "markdown",
   "id": "07fd6ded",
   "metadata": {},
   "source": [
    "## D. Compute divergence metric; histogram → results/divergence_hist.png"
   ]
  },
  {
   "cell_type": "code",
   "execution_count": null,
   "id": "7fde7b60",
   "metadata": {},
   "outputs": [],
   "source": [
    "df['divergence'] = df['sent_score'] - (df['star_rating']-3)/2\n",
    "ax = df['divergence'].hist()\n",
    "plt.title('Divergence Histogram')\n",
    "plt.savefig('results/divergence_hist.png')\n",
    "plt.show()"
   ]
  },
  {
   "cell_type": "markdown",
   "id": "e636e855",
   "metadata": {},
   "source": [
    "## E. Boxplot polarity vs star rating → results/polarity_vs_rating.png"
   ]
  },
  {
   "cell_type": "code",
   "execution_count": null,
   "id": "e5f66f22",
   "metadata": {},
   "outputs": [],
   "source": [
    "sns.boxplot(x='star_rating', y='sent_score', data=df)\n",
    "plt.title('Polarity vs Star Rating')\n",
    "plt.savefig('results/polarity_vs_rating.png')\n",
    "plt.show()"
   ]
  },
  {
   "cell_type": "markdown",
   "id": "b9fb9a17",
   "metadata": {},
   "source": [
    "## (Optional) Helpful votes vs Divergence"
   ]
  },
  {
   "cell_type": "code",
   "execution_count": null,
   "id": "bd0caa0a",
   "metadata": {},
   "outputs": [],
   "source": [
    "# sns.scatterplot(x='helpful_votes', y='divergence', data=df)\n",
    "# plt.savefig('results/helpful_vs_div.png')"
   ]
  },
  {
   "cell_type": "markdown",
   "id": "f772a2c9",
   "metadata": {},
   "source": [
    "## F. Save cleaned subset → data/clean_1M.parquet"
   ]
  },
  {
   "cell_type": "code",
   "execution_count": null,
   "id": "d10681e9",
   "metadata": {},
   "outputs": [],
   "source": [
    "df.to_parquet('data/clean_1M.parquet')\n",
    "print('✅ Saved cleaned subset to data/clean_1M.parquet')"
   ]
  }
 ],
 "metadata": {
  "kernelspec": {
   "display_name": "base",
   "language": "python",
   "name": "python3"
  },
  "language_info": {
   "codemirror_mode": {
    "name": "ipython",
    "version": 3
   },
   "file_extension": ".py",
   "mimetype": "text/x-python",
   "name": "python",
   "nbconvert_exporter": "python",
   "pygments_lexer": "ipython3",
   "version": "3.9.21"
  }
 },
 "nbformat": 4,
 "nbformat_minor": 5
}
