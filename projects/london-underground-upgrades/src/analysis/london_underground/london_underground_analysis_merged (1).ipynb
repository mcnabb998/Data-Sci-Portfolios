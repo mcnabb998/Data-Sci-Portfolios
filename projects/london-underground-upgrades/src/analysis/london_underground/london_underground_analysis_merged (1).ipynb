{
 "cells": [
  {
   "cell_type": "markdown",
   "id": "d3ee0965",
   "metadata": {},
   "source": [
    "\n",
    "# London Underground Upgrade Impact Analysis\n",
    "\n",
    "This notebook reproduces the analysis of London Underground upgrades between 2010 and 2024. It loads pre‑processed datasets of network performance metrics, ridership and reliability, integrates the upgrade timeline for each line, and generates visualisations such as the Excess Journey Time (EJT) trend by line, an EJT heatmap, and a Lost Customer Hours (LCH) stacked area plot. It also computes average EJT pre‑ and post‑upgrade for each line to assess the impact of investments.\n"
   ]
  },
  {
   "cell_type": "markdown",
   "id": "c603340f",
   "metadata": {},
   "source": [
    "\n",
    "## Data Sources\n",
    "\n",
    "The analysis is based on data provided by Transport for London (TfL) and compiled in several CSV files.\n",
    "\n",
    "- `station_annual_counts_updated.csv` – annual entry/exit counts for each station.\n",
    "- `station_line_mapping.csv` – mapping of stations to the lines they serve.\n",
    "- `line_annual_ridership_updated.csv` – line‑level ridership allocated from station counts.\n",
    "- `station_ridership_period.csv` – ridership estimates by line and financial period.\n",
    "- `lu_panel.csv` – network and line‑level performance metrics by period (Excess Journey Time, Lost Customer Hours, kilometres operated, percentage of schedule).\n",
    "- `reliability_metrics_clean.csv` – metrics on rolling stock reliability, escalator/lift availability and service control failures.\n",
    "- `lu_panel_with_station_ridership_upgrades.csv` – consolidated panel with network metrics, ridership, reliability measures and upgrade timeline (with `upgrade_year` and phase indicators).\n",
    "\n",
    "These files are located in the `../data/raw` folder relative to this notebook.\n"
   ]
  },
  {
   "cell_type": "code",
   "execution_count": null,
   "id": "39514a5f",
   "metadata": {},
   "outputs": [],
   "source": [
    "\n",
    "import os\n",
    "import pandas as pd\n",
    "import numpy as np\n",
    "import matplotlib.pyplot as plt\n",
    "import seaborn as sns\n",
    "\n",
    "# Configure seaborn style\n",
    "sns.set_theme(style=\"whitegrid\")\n",
    "%matplotlib inline\n"
   ]
  },
  {
   "cell_type": "code",
   "execution_count": null,
   "id": "376c36ed",
   "metadata": {},
   "outputs": [],
   "source": [
    "\n",
    "# Define base data directory relative to notebook\n",
    "DATA_DIR = os.path.join('..', 'data', 'raw')\n",
    "\n",
    "# Paths to the primary CSV files\n",
    "panel_file = os.path.join(DATA_DIR, 'lu_panel_with_station_ridership_upgrades.csv')\n",
    "\n",
    "# If you need other datasets later, define their paths here (not used in this analysis)\n",
    "# station_counts_file = os.path.join(DATA_DIR, 'station_annual_counts_updated.csv')\n",
    "# station_line_file = os.path.join(DATA_DIR, 'station_line_mapping.csv')\n"
   ]
  },
  {
   "cell_type": "code",
   "execution_count": null,
   "id": "aedae82c",
   "metadata": {},
   "outputs": [],
   "source": [
    "\n",
    "# Load the consolidated panel with upgrade information\n",
    "\n",
    "df = pd.read_csv(panel_file)\n",
    "\n",
    "# Load the original line-level data to retrieve Lost Customer Hours (lch_line)\n",
    "lu_panel_base = pd.read_csv(os.path.join(DATA_DIR, 'lu_panel.csv'))\n",
    "base_lch = lu_panel_base[['financial_period', 'line', 'lch_line']]\n",
    "\n",
    "# Drop existing lch_line in df (if present) and merge base_lch onto df\n",
    "if 'lch_line' in df.columns:\n",
    "    df = df.drop(columns=['lch_line'])\n",
    "df = df.merge(base_lch, on=['financial_period', 'line'], how='left')\n",
    "\n",
    "# Display basic information about the DataFrame\n",
    "print('Data shape:', df.shape)\n",
    "df.head()\n"
   ]
  },
  {
   "cell_type": "markdown",
   "id": "684818fe",
   "metadata": {},
   "source": [
    "\n",
    "### Column descriptions\n",
    "\n",
    "The `lu_panel_with_station_ridership_upgrades` dataset contains the following columns:\n",
    "\n",
    "- **financial_period**: Fiscal period in the format `pp_yy/yy` (e.g., `02_11/12`).\n",
    "- **financial_year**: Fiscal year range.\n",
    "- **period**: Period number (1–13) within the fiscal year.\n",
    "- **days**: Number of days in the period.\n",
    "- **period_end**: End date of the period (YYYY‑MM‑DD).\n",
    "- **line**: Name of the Underground line (e.g., Central, Victoria).\n",
    "- **lch_network**: Lost customer hours (LCH) across the network for the period.\n",
    "- **ejt_network**: Excess journey time (EJT) across the network (in minutes).\n",
    "- **operated_kms_network**: Kilometres operated across the network.\n",
    "- **pct_scheduled**: Percentage of scheduled kilometres operated.\n",
    "- **lch_line**: LCH allocated to the specific line.\n",
    "- **ejt_line**: EJT allocated to the line.\n",
    "- **operated_kms_line**: Kilometres operated on the line.\n",
    "- **station_alloc_ridership**: Ridership (entries/exits) allocated to the line and period.\n",
    "- **period_year**: Calendar year corresponding to the period.\n",
    "- **upgrade_year**: Year of the major capacity upgrade for the line (if applicable).\n",
    "- **train_upgrade_year**: Year of the rolling‑stock upgrade (sub‑surface lines).\n",
    "- **signalling_upgrade_year**: Year of the signalling upgrade (sub‑surface lines).\n",
    "- **post_upgrade**: Binary indicator (1 if period_year ≥ upgrade_year).\n",
    "- **post_train_upgrade**: Binary indicator (1 if period_year ≥ train_upgrade_year).\n",
    "- **post_signalling_upgrade**: Binary indicator (1 if period_year ≥ signalling_upgrade_year).\n"
   ]
  },
  {
   "cell_type": "code",
   "execution_count": null,
   "id": "f5d78056",
   "metadata": {},
   "outputs": [],
   "source": [
    "\n",
    "# Ensure period is integer for time series calculation\n",
    "# The dataset may contain strings or floats; convert to integer safely\n",
    "\n",
    "df['period_int'] = df['period'].astype(int)\n",
    "# Convert period_year to integer (handle strings like '2011/2012' by taking first four digits)\n",
    "df['period_year_int'] = df['period_year'].astype(int)\n",
    "\n",
    "# Create a unique time index for plotting (year * 100 + period)\n",
    "df['time_id'] = df['period_year_int'] * 100 + df['period_int']\n",
    "\n",
    "# Sort by time_id for consistent plotting\n",
    "df = df.sort_values('time_id')\n",
    "\n",
    "# Display the new columns\n",
    "print(df[['period_year_int','period_int','time_id']].head())\n"
   ]
  },
  {
   "cell_type": "code",
   "execution_count": null,
   "id": "8de22d64",
   "metadata": {},
   "outputs": [],
   "source": [
    "\n",
    "# Pivot the data to wide format for EJT trend\n",
    "\n",
    "ejt_trend = df.pivot_table(index='time_id', columns='line', values='ejt_line', aggfunc='mean')\n",
    "\n",
    "# Plot EJT trend for each line\n",
    "plt.figure(figsize=(12, 6))\n",
    "for line in ejt_trend.columns:\n",
    "    plt.plot(ejt_trend.index, ejt_trend[line], marker='o', label=line)\n",
    "plt.xlabel('Time (year * 100 + period)')\n",
    "plt.ylabel('Excess Journey Time (minutes)')\n",
    "plt.title('Excess Journey Time Trend by Line')\n",
    "plt.legend(bbox_to_anchor=(1.05, 1), loc='upper left')\n",
    "plt.tight_layout()\n",
    "plt.show()\n"
   ]
  },
  {
   "cell_type": "code",
   "execution_count": null,
   "id": "0d5ddcb6",
   "metadata": {},
   "outputs": [],
   "source": [
    "\n",
    "# Create a heatmap of EJT by line and time_id\n",
    "\n",
    "ejt_heatmap_data = df.pivot_table(index='line', columns='time_id', values='ejt_line', aggfunc='mean')\n",
    "\n",
    "plt.figure(figsize=(14, 6))\n",
    "sns.heatmap(ejt_heatmap_data, cmap='YlOrRd', cbar_kws={'label': 'Excess Journey Time (minutes)'}, linewidths=0.2)\n",
    "plt.title('Excess Journey Time Heatmap by Line and Period')\n",
    "plt.xlabel('Time (year * 100 + period)')\n",
    "plt.ylabel('Line')\n",
    "plt.tight_layout()\n",
    "plt.show()\n"
   ]
  },
  {
   "cell_type": "code",
   "execution_count": null,
   "id": "b889b1c2",
   "metadata": {},
   "outputs": [],
   "source": [
    "\n",
    "# Pivot data for stacked area plot of Lost Customer Hours\n",
    "\n",
    "lch_stack_data = df.pivot_table(index='time_id', columns='line', values='lch_line', aggfunc='sum')\n",
    "\n",
    "# Normalize data if there are missing years/periods by forward filling\n",
    "lch_stack_data = lch_stack_data.fillna(0)\n",
    "\n",
    "# Plot stacked area\n",
    "plt.figure(figsize=(12, 6))\n",
    "lch_stack_data.sort_index().plot(kind='area', stacked=True, figsize=(12, 6), colormap='tab10')\n",
    "plt.xlabel('Time (year * 100 + period)')\n",
    "plt.ylabel('Lost Customer Hours')\n",
    "plt.title('Lost Customer Hours Stacked Area Plot by Line')\n",
    "plt.legend(title='Line', bbox_to_anchor=(1.05, 1), loc='upper left')\n",
    "plt.tight_layout()\n",
    "plt.show()\n"
   ]
  },
  {
   "cell_type": "code",
   "execution_count": null,
   "id": "93d9bdae",
   "metadata": {},
   "outputs": [],
   "source": [
    "\n",
    "# Compute average EJT per line before and after major upgrade\n",
    "\n",
    "ejt_upgrade_stats = df.groupby(['line', 'post_upgrade'])['ejt_line'].mean().reset_index()\n",
    "\n",
    "# Pivot for easier viewing\n",
    "pre_post_ejt = ejt_upgrade_stats.pivot(index='line', columns='post_upgrade', values='ejt_line')\n",
    "pre_post_ejt.columns = ['Pre-upgrade', 'Post-upgrade']\n",
    "pre_post_ejt = pre_post_ejt.sort_index()\n",
    "\n",
    "print('Average EJT by line (minutes):')\n",
    "pre_post_ejt\n"
   ]
  },
  {
   "cell_type": "markdown",
   "id": "b4f84040",
   "metadata": {},
   "source": [
    "\n",
    "### Interpretation of pre vs. post upgrade EJT\n",
    "\n",
    "The table above shows the mean excess journey time (in minutes) for each Underground line before and after its major capacity upgrade. A reduction from the pre‑upgrade to the post‑upgrade column suggests that the upgrade may have improved service performance. Lines without upgrades during 2010–2024 are labelled as missing (`NaN`) in the `upgrade_year` column, and thus all periods are treated as pre‑upgrade.\n"
   ]
  }
 ],
 "metadata": {},
 "nbformat": 4,
 "nbformat_minor": 5
}
