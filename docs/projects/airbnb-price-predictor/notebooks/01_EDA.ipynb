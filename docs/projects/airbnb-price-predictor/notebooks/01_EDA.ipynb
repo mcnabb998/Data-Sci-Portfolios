{
 "cells": [
  {
   "cell_type": "markdown",
   "id": "2587dac6",
   "metadata": {},
   "source": [
    "# Airbnb Price Predictor: Exploratory Data Analysis (Milestone 2)\n",
    "\n",
    "This notebook performs exploratory data analysis (EDA) on the New York City Airbnb listings dataset from Inside Airbnb. The dataset was scraped on 17 June 2025 and is licensed under Creative Commons CC0 1.0 (public domain). Feel free to run the cells to reproduce the plots used in the white paper.\n",
    "\n",
    "**Note:** This notebook assumes the CSV file `listings.csv.gz` is located in the same directory.\n"
   ]
  },
  {
   "cell_type": "code",
   "execution_count": null,
   "id": "d430ada9",
   "metadata": {},
   "outputs": [],
   "source": [
    "import pandas as pd\n",
    "import numpy as np\n",
    "import matplotlib.pyplot as plt\n",
    "import seaborn as sns\n",
    "\n",
    "sns.set(style='whitegrid')\n"
   ]
  },
  {
   "cell_type": "code",
   "execution_count": null,
   "id": "4fb093de",
   "metadata": {},
   "outputs": [],
   "source": [
    "# Load the compressed CSV file\n",
    "listings = pd.read_csv('listings.csv.gz')\n",
    "\n",
    "# Convert price string to numeric (remove dollar sign and commas)\n",
    "listings['price_num'] = listings['price'].replace({r'\\$':'','\\,':''}, regex=True).astype(float)\n",
    "\n",
    "# Display first few rows and summary statistics\n",
    "listings.head(), listings['price_num'].describe()\n"
   ]
  },
  {
   "cell_type": "code",
   "execution_count": null,
   "id": "6cb43cd0",
   "metadata": {},
   "outputs": [],
   "source": [
    "# Histogram of the log-transformed prices\n",
    "plt.figure(figsize=(8,4))\n",
    "subset = listings['price_num'].dropna()\n",
    "plt.hist(np.log10(subset[subset > 0]), bins=30, color='skyblue', edgecolor='k')\n",
    "plt.xlabel('Log10 of price (USD)')\n",
    "plt.ylabel('Count')\n",
    "plt.title('Distribution of Airbnb Listing Prices (Log10 scale)')\n",
    "plt.show()\n"
   ]
  },
  {
   "cell_type": "code",
   "execution_count": null,
   "id": "5d703435",
   "metadata": {},
   "outputs": [],
   "source": [
    "# Boxplot of price by room type\n",
    "plt.figure(figsize=(8,4))\n",
    "sns.boxplot(x='room_type', y='price_num', data=listings, showfliers=False)\n",
    "plt.yscale('log')\n",
    "plt.ylabel('Price (USD) [log scale]')\n",
    "plt.xlabel('Room type')\n",
    "plt.title('Price distribution by room type')\n",
    "plt.show()\n"
   ]
  },
  {
   "cell_type": "code",
   "execution_count": null,
   "id": "7ae1be1a",
   "metadata": {},
   "outputs": [],
   "source": [
    "# Boxplot of price by borough (neighbourhood_group_cleansed)\n",
    "subset2 = listings.dropna(subset=['neighbourhood_group_cleansed', 'price_num'])\n",
    "counts = subset2['neighbourhood_group_cleansed'].value_counts()\n",
    "selected = counts[counts > 500].index\n",
    "subset2 = subset2[subset2['neighbourhood_group_cleansed'].isin(selected)]\n",
    "\n",
    "plt.figure(figsize=(8,4))\n",
    "sns.boxplot(x='neighbourhood_group_cleansed', y='price_num', data=subset2, showfliers=False)\n",
    "plt.yscale('log')\n",
    "plt.ylabel('Price (USD) [log scale]')\n",
    "plt.xlabel('Borough')\n",
    "plt.title('Price distribution by borough')\n",
    "plt.show()\n"
   ]
  },
  {
   "cell_type": "code",
   "execution_count": null,
   "id": "c6f7d527",
   "metadata": {},
   "outputs": [],
   "source": [
    "# Average price by number of bedrooms\n",
    "subset3 = listings.dropna(subset=['bedrooms'])\n",
    "subset3['bedrooms'] = pd.to_numeric(subset3['bedrooms'], errors='coerce')\n",
    "avg_price_by_bedroom = subset3.groupby('bedrooms')['price_num'].mean().dropna().sort_index().head(10)\n",
    "\n",
    "plt.figure(figsize=(8,4))\n",
    "sns.barplot(x=avg_price_by_bedroom.index.astype(int), y=avg_price_by_bedroom.values, color='lightgreen')\n",
    "plt.ylabel('Average price (USD)')\n",
    "plt.xlabel('Number of bedrooms')\n",
    "plt.title('Average price by number of bedrooms')\n",
    "plt.show()\n"
   ]
  },
  {
   "cell_type": "code",
   "execution_count": null,
   "id": "7551c0c0",
   "metadata": {},
   "outputs": [],
   "source": [
    "# Scatter plot of price vs review score rating\n",
    "subset4 = listings.dropna(subset=['review_scores_rating', 'price_num'])\n",
    "sample = subset4.sample(n=min(2000, len(subset4)), random_state=42)\n",
    "\n",
    "plt.figure(figsize=(8,4))\n",
    "plt.scatter(sample['review_scores_rating'], sample['price_num'], alpha=0.3, s=10, color='purple')\n",
    "plt.yscale('log')\n",
    "plt.xlabel('Review score rating')\n",
    "plt.ylabel('Price (USD) [log scale]')\n",
    "plt.title('Price vs review score rating')\n",
    "plt.show()\n"
   ]
  }
 ],
 "metadata": {},
 "nbformat": 4,
 "nbformat_minor": 5
}
